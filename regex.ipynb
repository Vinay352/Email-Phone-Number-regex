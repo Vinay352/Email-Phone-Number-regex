{
 "cells": [
  {
   "cell_type": "code",
   "execution_count": 36,
   "metadata": {},
   "outputs": [
    {
     "name": "stdout",
     "output_type": "stream",
     "text": [
      "Copied to clipboard:\n",
      "nettuts@tutsplus.com\n",
      "nettuts@tutsplus.com\n"
     ]
    }
   ],
   "source": [
    "import pyperclip ,re\n",
    "\n",
    "phoneRegex=re.compile(r'''(\n",
    "    (\\d{3}|\\(\\d{3}\\)) #area code\n",
    "    (\\s|-|\\.)?\n",
    "    (\\d{3})\n",
    "    (\\s|-|\\.)\n",
    "    (\\d{4})\n",
    "    (\\s*(ext|x|ext.)\\s*(\\d{2,5}))?\n",
    "    )''',re.VERBOSE)\n",
    "emailRegex = re.compile(r'''(\n",
    "   [a-zA-Z0-9._%+-]+      \n",
    "   @                      \n",
    "   [a-zA-Z0-9.-]+         \n",
    "   (\\.[a-zA-Z]{2,4})      \n",
    "   )''', re.VERBOSE)\n",
    "\n",
    "text=str(pyperclip.paste())\n",
    "matches=[]\n",
    "for groups in phoneRegex.findall(text):\n",
    "    phoneNum='-'.join([groups[1],groups[3],groups[5]])\n",
    "    if groups[8] != '':\n",
    "           phoneNum += ' x' + groups[8]\n",
    "    matches.append(phoneNum)\n",
    "for groups in emailRegex.findall(text):\n",
    "       matches.append(groups[0])\n",
    "if len(matches) > 0:\n",
    "    pyperclip.copy('\\n'.join(matches))\n",
    "    print('Copied to clipboard:')\n",
    "    print('\\n'.join(matches))\n",
    "else:\n",
    "    print('No phone numbers or email addresses found.')"
   ]
  },
  {
   "cell_type": "code",
   "execution_count": null,
   "metadata": {},
   "outputs": [],
   "source": []
  },
  {
   "cell_type": "code",
   "execution_count": null,
   "metadata": {},
   "outputs": [],
   "source": []
  },
  {
   "cell_type": "code",
   "execution_count": null,
   "metadata": {},
   "outputs": [],
   "source": []
  }
 ],
 "metadata": {
  "kernelspec": {
   "display_name": "Python 3",
   "language": "python",
   "name": "python3"
  },
  "language_info": {
   "codemirror_mode": {
    "name": "ipython",
    "version": 3
   },
   "file_extension": ".py",
   "mimetype": "text/x-python",
   "name": "python",
   "nbconvert_exporter": "python",
   "pygments_lexer": "ipython3",
   "version": "3.6.8"
  }
 },
 "nbformat": 4,
 "nbformat_minor": 2
}
